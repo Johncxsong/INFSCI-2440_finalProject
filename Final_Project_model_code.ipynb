{
  "cells": [
    {
      "cell_type": "markdown",
      "source": [
        "# Final Project\n",
        "---**An Image Classification Model to Facilitate the Diagnosis of Pneumonia**   \n",
        "\n",
        "INFSCI 2440 SEC1010 ARTIFICIAL INTELLIGENCE  \n",
        "\n",
        "Team member: \n",
        "- Jie Chen(jic115)\n",
        "- Yi Yang(yiy101)\n",
        "- John Song(chs342)\n"
      ],
      "metadata": {
        "id": "qkNdT3ixoY-k"
      }
    },
    {
      "cell_type": "markdown",
      "source": [
        "## Introduction  \n",
        "\n",
        "As we all know, the COVID-19 pandemic has put tremendous pressure on our healthcare systems, with hospitals overwhelmed with patients and a shortage of healthcare personnel. In light of these challenges, we aim to address this issue by developing an image classification model that can assist in the diagnosis of pneumonia, an illness that requires accurate and timely diagnosis.  "
      ],
      "metadata": {
        "id": "lL_B8gwoo_tK"
      }
    },
    {
      "cell_type": "markdown",
      "source": [
        "## Data Resource  \n",
        "\n",
        "[Chest X-Ray Images_Pneumonia](https://www.kaggle.com/datasets/paultimothymooney/chest-xray-pneumonia/discussion)  \n"
      ],
      "metadata": {
        "id": "0V3QG_a1pLYy"
      }
    },
    {
      "cell_type": "markdown",
      "source": [
        "## Data Preprocessing"
      ],
      "metadata": {
        "id": "JIXH_1LipjC8"
      }
    },
    {
      "cell_type": "markdown",
      "source": [
        "We use openCV libaray & numpy to convert image to a tensor with 3 channel.  We preprocessing this step in the local to save as pkl file.  "
      ],
      "metadata": {
        "id": "p0iS41wXp1-K"
      }
    },
    {
      "cell_type": "code",
      "source": [
        "import cv2\n",
        "import os\n",
        "import numpy as np\n",
        "import pandas as pd\n",
        "import joblib\n",
        "import matplotlib.pyplot as plt\n",
        "\n",
        "def resize_all(src, pkl_name, width, height):   \n",
        "    data = dict()   \n",
        "    data['label'] = []\n",
        "    data['data'] =   []\n",
        "     \n",
        "    pkl_name = f\"{pkl_name}_{height}x{width}px.pkl\"\n",
        " \n",
        "    # read all images in PATH, resize and write to DESTINATION_PATH\n",
        "    for subdir in os.listdir(src):\n",
        "        if subdir in ['NORMAL','PNEUMONIA']: # mac add one '.DS_Store' folder !!\n",
        "           current_path = os.path.join(src, subdir)\n",
        "           for file in os.listdir(current_path):\n",
        "              im = cv.imread(os.path.join(current_path, file))\n",
        "              im = cv.resize(im, (width, height)) \n",
        "              data['data'].append(im)\n",
        "              if subdir == 'NORMAL':\n",
        "                 data['label'].append(1)\n",
        "              else :\n",
        "                 data['label'].append(0)\n",
        "              \n",
        "           joblib.dump(data, pkl_name) # one folder at a time\n",
        "\n",
        "\n",
        "data_path = 'test'\n",
        "base_name = 'resized'\n",
        "pkl_name = data_path + '_' + base_name\n",
        "height = 66; width = 93\n",
        "\n",
        "resize_all(src=data_path, pkl_name=pkl_name, height = height, width=width)\n"
      ],
      "metadata": {
        "id": "6mJ3aHufOEjN"
      },
      "execution_count": null,
      "outputs": []
    },
    {
      "cell_type": "code",
      "source": [
        "# mount data in drive to colab\n",
        "from google.colab import drive\n",
        "drive.mount('/content/drive',force_remount= True)"
      ],
      "metadata": {
        "id": "_tONVhfSUvzG",
        "colab": {
          "base_uri": "https://localhost:8080/"
        },
        "outputId": "c092cd06-106e-4883-9626-5da0efc8fb84"
      },
      "execution_count": 1,
      "outputs": [
        {
          "output_type": "stream",
          "name": "stdout",
          "text": [
            "Mounted at /content/drive\n"
          ]
        }
      ]
    },
    {
      "cell_type": "markdown",
      "source": [
        "### read in data"
      ],
      "metadata": {
        "id": "NxvaTmjODb9m"
      }
    },
    {
      "cell_type": "code",
      "source": [
        "import numpy as np\n",
        "import os\n",
        "import joblib\n",
        "import matplotlib.pyplot as plt"
      ],
      "metadata": {
        "id": "vfT-zSuPq9XT"
      },
      "execution_count": 8,
      "outputs": []
    },
    {
      "cell_type": "code",
      "source": [
        "# train data\n",
        "path = '/content/drive/MyDrive/AI_project/'\n",
        "pkl_name = path + 'train_resized' \n",
        "height = 66;width = 93\n",
        "train = joblib.load(f'{pkl_name}_{height}x{width}px.pkl')\n",
        "X_train = np.array(train['data'])\n",
        "y_train = np.array(train['label'])"
      ],
      "metadata": {
        "id": "PW10CNaPwdcA"
      },
      "execution_count": 4,
      "outputs": []
    },
    {
      "cell_type": "code",
      "source": [
        "# validation data\n",
        "path = '/content/drive/MyDrive/AI_project/'\n",
        "pkl_name = path + 'val_resized' \n",
        "height = 66;width = 93\n",
        "val = joblib.load(f'{pkl_name}_{height}x{width}px.pkl')\n",
        "X_val = np.array(val['data']) \n",
        "y_val = np.array(val['label']) "
      ],
      "metadata": {
        "id": "v2UGtaoQ26dl"
      },
      "execution_count": 5,
      "outputs": []
    },
    {
      "cell_type": "code",
      "source": [
        "# test data\n",
        "path = '/content/drive/MyDrive/AI_project/'\n",
        "pkl_name = path + 'test_resized' \n",
        "height = 66;width = 93\n",
        "test = joblib.load(f'{pkl_name}_{height}x{width}px.pkl')\n",
        "X_test = np.array(test['data']) \n",
        "y_test = np.array(test['label']) "
      ],
      "metadata": {
        "id": "HcQV5a_C2v2r"
      },
      "execution_count": 6,
      "outputs": []
    },
    {
      "cell_type": "code",
      "source": [
        "# visilization for training data, validation data, test data.\n",
        "# 0 is PNEUMONIA   #1 is normal\n",
        "\n",
        "# training data\n",
        "t_pneumonia = [] \n",
        "t_normal = [] \n",
        "\n",
        "for i in range(len(X_train)):\n",
        "  if(y_train[i]==0):\n",
        "    t_pneumonia.append(X_train[i])\n",
        "  else:\n",
        "    t_normal.append(X_train[i])\n",
        "\n",
        "\n",
        "# validation \n",
        "\n",
        "v_pneumonia = [] \n",
        "v_normal = [] \n",
        "for i in range(len(X_val)):\n",
        "  if(y_val[i]==0):\n",
        "    v_pneumonia.append(X_val[i])\n",
        "  else:\n",
        "    v_normal.append(X_val[i])\n",
        "\n",
        "# test \n",
        "tt_pneumonia = [];\n",
        "tt_normal = [];\n",
        "for i in range(len(X_test)):\n",
        "  if(y_test[i]==0):\n",
        "    tt_pneumonia.append(X_test[i])\n",
        "  else:\n",
        "    tt_normal.append(X_test[i])\n",
        "\n",
        "\n",
        "#### matplot \n",
        "\n",
        "species = ('Training', 'Validation', 'Testing')\n",
        "label_counts = {\n",
        "    'PNEUMONIA': np.array([len(t_pneumonia), len(v_pneumonia), len(tt_pneumonia)]),\n",
        "    'NORMAL': np.array([len(t_normal), len(v_normal), len(tt_normal)]),\n",
        "}\n",
        "width = 0.6  # the width of the bars: can also be len(x) sequence\n",
        "\n",
        "\n",
        "fig, ax = plt.subplots()\n",
        "bottom = np.zeros(3)\n",
        "\n",
        "for label, label_count in label_counts.items():\n",
        "    p = ax.bar(species, label_count, width, label=label, bottom=bottom)\n",
        "    bottom += label_count\n",
        "\n",
        "    ax.bar_label(p, label_type='center')\n",
        "\n",
        "ax.set_title('PNEUMONIA vs.NORMAL')\n",
        "ax.legend()\n",
        "\n",
        "plt.show()"
      ],
      "metadata": {
        "colab": {
          "base_uri": "https://localhost:8080/",
          "height": 452
        },
        "id": "x6lPqyy3qydy",
        "outputId": "4beb78a9-e269-49fd-e1cd-23cbf55b009a"
      },
      "execution_count": 9,
      "outputs": [
        {
          "output_type": "display_data",
          "data": {
            "text/plain": [
              "<Figure size 640x480 with 1 Axes>"
            ],
            "image/png": "[encoded data removed]"
          },
          "metadata": {}
        }
      ]
    },
    {
      "cell_type": "code",
      "source": [
        "# to make balanced dataset, we randomly delete 2534 PNEUMONIA from train dataset\n",
        "np.random.seed(2023)\n",
        "idx = np.random.choice(np.arange(3875),2534,replace = False)\n",
        "\n",
        "X_train = np.delete(X_train,idx, axis = 0)\n",
        "y_train = np.delete(y_train,idx, axis = 0)"
      ],
      "metadata": {
        "id": "Oqu31GCGq6p5"
      },
      "execution_count": 10,
      "outputs": []
    },
    {
      "cell_type": "code",
      "source": [
        "# visilization for training data, validation data, test data.\n",
        "# 0 is PNEUMONIA   #1 is normal\n",
        "\n",
        "# training data\n",
        "t_pneumonia = [] \n",
        "t_normal = [] \n",
        "\n",
        "for i in range(len(X_train)):\n",
        "  if(y_train[i]==0):\n",
        "    t_pneumonia.append(X_train[i])\n",
        "  else:\n",
        "    t_normal.append(X_train[i])\n",
        "\n",
        "\n",
        "# validation \n",
        "\n",
        "v_pneumonia = [] \n",
        "v_normal = [] \n",
        "for i in range(len(X_val)):\n",
        "  if(y_val[i]==0):\n",
        "    v_pneumonia.append(X_val[i])\n",
        "  else:\n",
        "    v_normal.append(X_val[i])\n",
        "\n",
        "# test \n",
        "tt_pneumonia = [];\n",
        "tt_normal = [];\n",
        "for i in range(len(X_test)):\n",
        "  if(y_test[i]==0):\n",
        "    tt_pneumonia.append(X_test[i])\n",
        "  else:\n",
        "    tt_normal.append(X_test[i])\n",
        "\n",
        "\n",
        "#### matplot \n",
        "\n",
        "species = ('Training', 'Validation', 'Testing')\n",
        "label_counts = {\n",
        "    'PNEUMONIA': np.array([len(t_pneumonia), len(v_pneumonia), len(tt_pneumonia)]),\n",
        "    'NORMAL': np.array([len(t_normal), len(v_normal), len(tt_normal)]),\n",
        "}\n",
        "width = 0.6  # the width of the bars: can also be len(x) sequence\n",
        "\n",
        "\n",
        "fig, ax = plt.subplots()\n",
        "bottom = np.zeros(3)\n",
        "\n",
        "for label, label_count in label_counts.items():\n",
        "    p = ax.bar(species, label_count, width, label=label, bottom=bottom)\n",
        "    bottom += label_count\n",
        "\n",
        "    ax.bar_label(p, label_type='center')\n",
        "\n",
        "ax.set_title('PNEUMONIA vs.NORMAL')\n",
        "ax.legend()\n",
        "\n",
        "plt.show()"
      ],
      "metadata": {
        "colab": {
          "base_uri": "https://localhost:8080/",
          "height": 452
        },
        "id": "Y7DB6QmdrGWK",
        "outputId": "5fc8be0e-6d6c-4aa2-899d-ff87a5c60a0f"
      },
      "execution_count": 11,
      "outputs": [
        {
          "output_type": "display_data",
          "data": {
            "text/plain": [
              "<Figure size 640x480 with 1 Axes>"
            ],
            "image/png": "[encoded data removed]"
          },
          "metadata": {}
        }
      ]
    },
    {
      "cell_type": "code",
      "source": [
        "np.unique(y_train,return_counts= True)"
      ],
      "metadata": {
        "colab": {
          "base_uri": "https://localhost:8080/"
        },
        "id": "YfYrqPQY1hXg",
        "outputId": "8338b3d1-a681-451c-980b-6a8d6d8256cf"
      },
      "execution_count": 12,
      "outputs": [
        {
          "output_type": "execute_result",
          "data": {
            "text/plain": [
              "(array([0, 1]), array([1341, 1341]))"
            ]
          },
          "metadata": {},
          "execution_count": 12
        }
      ]
    },
    {
      "cell_type": "markdown",
      "source": [
        "## Build model with data augmentation:"
      ],
      "metadata": {
        "id": "UuC4Ah3W-z7R"
      }
    },
    {
      "cell_type": "code",
      "source": [
        "# Data augmentation : refer to https://www.kaggle.com/code/madz2000/pneumonia-detection-using-cnn-92-6-accuracy/notebook\n",
        "from keras.preprocessing.image import ImageDataGenerator\n",
        "datagen = ImageDataGenerator(\n",
        "        rotation_range = 20,     # randomly rotate images in the range (degrees, 0 to 180)\n",
        "        zoom_range = 0.2,        # Randomly zoom image \n",
        "        width_shift_range=0.1,   # randomly shift images horizontally (fraction of total width)\n",
        "        height_shift_range=0.1,  # randomly shift images vertically (fraction of total height)\n",
        "        horizontal_flip = True)  # randomly flip images \n",
        "\n",
        "datagen.fit(X_train)"
      ],
      "metadata": {
        "id": "1eEqUqXM0JYS"
      },
      "execution_count": 13,
      "outputs": []
    },
    {
      "cell_type": "code",
      "source": [
        "# specify model structure\n",
        "from tensorflow import keras \n",
        "from tensorflow.keras import layers\n",
        "  \n",
        "inputs = keras.Input(shape=(66, 93,3))   \n",
        "x = layers.Rescaling(1./255)(inputs) # normalize values to [0,1]\n",
        "x = layers.Conv2D(filters=32, kernel_size=3, activation=\"relu\")(x)\n",
        "x = layers.MaxPooling2D(pool_size=2, padding='same')(x)\n",
        "x = layers.Conv2D(filters=64, kernel_size=3, activation=\"relu\")(x)\n",
        "x = layers.MaxPooling2D(pool_size=2, padding='same')(x)\n",
        "x = layers.Conv2D(filters=128, kernel_size=3, activation=\"relu\")(x)\n",
        "x = layers.MaxPooling2D(pool_size=2, padding='same')(x)\n",
        "x = layers.Conv2D(filters=256, kernel_size=3, activation=\"relu\")(x)\n",
        "x = layers.MaxPooling2D(pool_size=2, padding='same')(x)\n",
        "x = layers.Conv2D(filters=256, kernel_size=3, activation=\"relu\")(x)\n",
        "x = layers.Flatten()(x) # flatten internal representation to 1d vetor\n",
        "outputs = layers.Dense(1, activation=\"sigmoid\")(x)\n",
        "model = keras.Model(inputs=inputs, outputs=outputs)\n",
        "\n",
        "model.compile(loss=\"binary_crossentropy\",  # loss function \n",
        "              optimizer=\"rmsprop\",\n",
        "              metrics=[\"accuracy\"])"
      ],
      "metadata": {
        "id": "dmYNft-W5fVk"
      },
      "execution_count": 14,
      "outputs": []
    },
    {
      "cell_type": "code",
      "source": [
        "from keras.callbacks import ReduceLROnPlateau # adjust learn rate when metrics reach plateau\n",
        "learning_rate_reduction = ReduceLROnPlateau(monitor='val_accuracy', patience = 2,\n",
        "                                            verbose=1,factor=0.3, min_lr=0.000001)"
      ],
      "metadata": {
        "id": "YzkA5_TI5c6-"
      },
      "execution_count": 15,
      "outputs": []
    },
    {
      "cell_type": "code",
      "source": [
        "# fit model \n",
        "history = model.fit(datagen.flow(X_train,y_train, batch_size = 32) ,epochs = 12 , \n",
        "                    validation_data = datagen.flow(X_val, y_val) ,\n",
        "                    callbacks = [learning_rate_reduction])"
      ],
      "metadata": {
        "colab": {
          "base_uri": "https://localhost:8080/"
        },
        "id": "1l8bo7cU5gGF",
        "outputId": "f66624de-764f-4913-dd7d-c9c41ad26dda"
      },
      "execution_count": 16,
      "outputs": [
        {
          "output_type": "stream",
          "name": "stdout",
          "text": [
            "Epoch 1/12\n",
            "84/84 [==============================] - 57s 658ms/step - loss: 0.7324 - accuracy: 0.5455 - val_loss: 0.6814 - val_accuracy: 0.5625 - lr: 0.0010\n",
            "Epoch 2/12\n",
            "84/84 [==============================] - 48s 567ms/step - loss: 0.5844 - accuracy: 0.7308 - val_loss: 0.7373 - val_accuracy: 0.6250 - lr: 0.0010\n",
            "Epoch 3/12\n",
            "84/84 [==============================] - 48s 577ms/step - loss: 0.4707 - accuracy: 0.7938 - val_loss: 0.6512 - val_accuracy: 0.6875 - lr: 0.0010\n",
            "Epoch 4/12\n",
            "84/84 [==============================] - 48s 567ms/step - loss: 0.3892 - accuracy: 0.8348 - val_loss: 0.6384 - val_accuracy: 0.6875 - lr: 0.0010\n",
            "Epoch 5/12\n",
            "84/84 [==============================] - ETA: 0s - loss: 0.3595 - accuracy: 0.8490\n",
            "Epoch 5: ReduceLROnPlateau reducing learning rate to 0.0003000000142492354.\n",
            "84/84 [==============================] - 50s 602ms/step - loss: 0.3595 - accuracy: 0.8490 - val_loss: 0.5887 - val_accuracy: 0.6250 - lr: 0.0010\n",
            "Epoch 6/12\n",
            "84/84 [==============================] - 48s 577ms/step - loss: 0.2652 - accuracy: 0.8878 - val_loss: 0.7291 - val_accuracy: 0.6250 - lr: 3.0000e-04\n",
            "Epoch 7/12\n",
            "84/84 [==============================] - ETA: 0s - loss: 0.2436 - accuracy: 0.9031\n",
            "Epoch 7: ReduceLROnPlateau reducing learning rate to 9.000000427477062e-05.\n",
            "84/84 [==============================] - 51s 607ms/step - loss: 0.2436 - accuracy: 0.9031 - val_loss: 0.6183 - val_accuracy: 0.6875 - lr: 3.0000e-04\n",
            "Epoch 8/12\n",
            "84/84 [==============================] - 48s 577ms/step - loss: 0.2232 - accuracy: 0.9131 - val_loss: 0.7801 - val_accuracy: 0.6875 - lr: 9.0000e-05\n",
            "Epoch 9/12\n",
            "84/84 [==============================] - ETA: 0s - loss: 0.2211 - accuracy: 0.9161\n",
            "Epoch 9: ReduceLROnPlateau reducing learning rate to 2.700000040931627e-05.\n",
            "84/84 [==============================] - 48s 575ms/step - loss: 0.2211 - accuracy: 0.9161 - val_loss: 0.9104 - val_accuracy: 0.6250 - lr: 9.0000e-05\n",
            "Epoch 10/12\n",
            "84/84 [==============================] - 54s 648ms/step - loss: 0.2179 - accuracy: 0.9135 - val_loss: 0.7757 - val_accuracy: 0.6875 - lr: 2.7000e-05\n",
            "Epoch 11/12\n",
            "84/84 [==============================] - ETA: 0s - loss: 0.1977 - accuracy: 0.9265\n",
            "Epoch 11: ReduceLROnPlateau reducing learning rate to 8.100000013655517e-06.\n",
            "84/84 [==============================] - 47s 563ms/step - loss: 0.1977 - accuracy: 0.9265 - val_loss: 0.8371 - val_accuracy: 0.6875 - lr: 2.7000e-05\n",
            "Epoch 12/12\n",
            "84/84 [==============================] - 50s 587ms/step - loss: 0.2046 - accuracy: 0.9176 - val_loss: 0.5975 - val_accuracy: 0.6875 - lr: 8.1000e-06\n"
          ]
        }
      ]
    },
    {
      "cell_type": "markdown",
      "source": [
        "## Test & Save model"
      ],
      "metadata": {
        "id": "M-wOEY3Tvy8z"
      }
    },
    {
      "cell_type": "code",
      "source": [
        "# test model\n",
        "test_loss, test_acc = model.evaluate(X_test, y_test)\n",
        "print(f\"Test accuracy: {test_acc:.3f}\")\n",
        "\n",
        "\n",
        "# save\n",
        "model.save(\"AI_finalProject_model.h5\")"
      ],
      "metadata": {
        "colab": {
          "base_uri": "https://localhost:8080/"
        },
        "id": "O-XfYLltJkzA",
        "outputId": "e1b98a7f-0b06-46df-f4b1-65c25d5c5e8a"
      },
      "execution_count": null,
      "outputs": [
        {
          "output_type": "stream",
          "name": "stdout",
          "text": [
            "20/20 [==============================] - 2s 107ms/step - loss: 0.2735 - accuracy: 0.9071\n",
            "Test accuracy: 0.907\n"
          ]
        }
      ]
    },
    {
      "cell_type": "markdown",
      "source": [
        "### Model performace analysis:"
      ],
      "metadata": {
        "id": "FbOp6jXJNLEu"
      }
    },
    {
      "cell_type": "markdown",
      "source": [
        "#### 1. precision, racall ,f1 score etc"
      ],
      "metadata": {
        "id": "GpuJxZXzNYNV"
      }
    },
    {
      "cell_type": "code",
      "source": [
        "y_pred = model.predict(X_test)\n",
        "y_pred = np.where(y_pred < 0.5 , 0 ,1)"
      ],
      "metadata": {
        "colab": {
          "base_uri": "https://localhost:8080/"
        },
        "id": "f7wtWu60_HpA",
        "outputId": "72fb9174-aa6e-48cb-939d-e4b3c2f3b199"
      },
      "execution_count": 17,
      "outputs": [
        {
          "output_type": "stream",
          "name": "stdout",
          "text": [
            "20/20 [==============================] - 3s 148ms/step\n"
          ]
        }
      ]
    },
    {
      "cell_type": "code",
      "source": [
        "from sklearn import metrics\n",
        "import pandas as pd\n",
        "report = metrics.classification_report(y_test, y_pred, output_dict=True,\n",
        "                                       target_names = ['Pneumonia','Normal'])\n",
        "pd.DataFrame(report)"
      ],
      "metadata": {
        "colab": {
          "base_uri": "https://localhost:8080/",
          "height": 175
        },
        "id": "wPDZYxVP_QwY",
        "outputId": "39fe9c01-67c8-4cde-8077-f2d65224b2d8"
      },
      "execution_count": 18,
      "outputs": [
        {
          "output_type": "execute_result",
          "data": {
            "text/plain": [
              "            Pneumonia      Normal  accuracy   macro avg  weighted avg\n",
              "precision    0.922252    0.816733  0.879808    0.869493      0.882682\n",
              "recall       0.882051    0.876068  0.879808    0.879060      0.879808\n",
              "f1-score     0.901704    0.845361  0.879808    0.873532      0.880575\n",
              "support    390.000000  234.000000  0.879808  624.000000    624.000000"
            ],
            "text/html": [
              "\n",
              "  <div id=\"df-350ba4de-40c4-4194-bf9c-bbacc5944be1\">\n",
              "    <div class=\"colab-df-container\">\n",
              "      <div>\n",
              "<style scoped>\n",
              "    .dataframe tbody tr th:only-of-type {\n",
              "        vertical-align: middle;\n",
              "    }\n",
              "\n",
              "    .dataframe tbody tr th {\n",
              "        vertical-align: top;\n",
              "    }\n",
              "\n",
              "    .dataframe thead th {\n",
              "        text-align: right;\n",
              "    }\n",
              "</style>\n",
              "<table border=\"1\" class=\"dataframe\">\n",
              "  <thead>\n",
              "    <tr style=\"text-align: right;\">\n",
              "      <th></th>\n",
              "      <th>Pneumonia</th>\n",
              "      <th>Normal</th>\n",
              "      <th>accuracy</th>\n",
              "      <th>macro avg</th>\n",
              "      <th>weighted avg</th>\n",
              "    </tr>\n",
              "  </thead>\n",
              "  <tbody>\n",
              "    <tr>\n",
              "      <th>precision</th>\n",
              "      <td>0.922252</td>\n",
              "      <td>0.816733</td>\n",
              "      <td>0.879808</td>\n",
              "      <td>0.869493</td>\n",
              "      <td>0.882682</td>\n",
              "    </tr>\n",
              "    <tr>\n",
              "      <th>recall</th>\n",
              "      <td>0.882051</td>\n",
              "      <td>0.876068</td>\n",
              "      <td>0.879808</td>\n",
              "      <td>0.879060</td>\n",
              "      <td>0.879808</td>\n",
              "    </tr>\n",
              "    <tr>\n",
              "      <th>f1-score</th>\n",
              "      <td>0.901704</td>\n",
              "      <td>0.845361</td>\n",
              "      <td>0.879808</td>\n",
              "      <td>0.873532</td>\n",
              "      <td>0.880575</td>\n",
              "    </tr>\n",
              "    <tr>\n",
              "      <th>support</th>\n",
              "      <td>390.000000</td>\n",
              "      <td>234.000000</td>\n",
              "      <td>0.879808</td>\n",
              "      <td>624.000000</td>\n",
              "      <td>624.000000</td>\n",
              "    </tr>\n",
              "  </tbody>\n",
              "</table>\n",
              "</div>\n",
              "      <button class=\"colab-df-convert\" onclick=\"convertToInteractive('df-350ba4de-40c4-4194-bf9c-bbacc5944be1')\"\n",
              "              title=\"Convert this dataframe to an interactive table.\"\n",
              "              style=\"display:none;\">\n",
              "        \n",
              "  <svg xmlns=\"http://www.w3.org/2000/svg\" height=\"24px\"viewBox=\"0 0 24 24\"\n",
              "       width=\"24px\">\n",
              "    <path d=\"M0 0h24v24H0V0z\" fill=\"none\"/>\n",
              "    <path d=\"M18.56 5.44l.94 2.06.94-2.06 2.06-.94-2.06-.94-.94-2.06-.94 2.06-2.06.94zm-11 1L8.5 8.5l.94-2.06 2.06-.94-2.06-.94L8.5 2.5l-.94 2.06-2.06.94zm10 10l.94 2.06.94-2.06 2.06-.94-2.06-.94-.94-2.06-.94 2.06-2.06.94z\"/><path d=\"M17.41 7.96l-1.37-1.37c-.4-.4-.92-.59-1.43-.59-.52 0-1.04.2-1.43.59L10.3 9.45l-7.72 7.72c-.78.78-.78 2.05 0 2.83L4 21.41c.39.39.9.59 1.41.59.51 0 1.02-.2 1.41-.59l7.78-7.78 2.81-2.81c.8-.78.8-2.07 0-2.86zM5.41 20L4 18.59l7.72-7.72 1.47 1.35L5.41 20z\"/>\n",
              "  </svg>\n",
              "      </button>\n",
              "      \n",
              "  <style>\n",
              "    .colab-df-container {\n",
              "      display:flex;\n",
              "      flex-wrap:wrap;\n",
              "      gap: 12px;\n",
              "    }\n",
              "\n",
              "    .colab-df-convert {\n",
              "      background-color: #E8F0FE;\n",
              "      border: none;\n",
              "      border-radius: 50%;\n",
              "      cursor: pointer;\n",
              "      display: none;\n",
              "      fill: #1967D2;\n",
              "      height: 32px;\n",
              "      padding: 0 0 0 0;\n",
              "      width: 32px;\n",
              "    }\n",
              "\n",
              "    .colab-df-convert:hover {\n",
              "      background-color: #E2EBFA;\n",
              "      box-shadow: 0px 1px 2px rgba(60, 64, 67, 0.3), 0px 1px 3px 1px rgba(60, 64, 67, 0.15);\n",
              "      fill: #174EA6;\n",
              "    }\n",
              "\n",
              "    [theme=dark] .colab-df-convert {\n",
              "      background-color: #3B4455;\n",
              "      fill: #D2E3FC;\n",
              "    }\n",
              "\n",
              "    [theme=dark] .colab-df-convert:hover {\n",
              "      background-color: #434B5C;\n",
              "      box-shadow: 0px 1px 3px 1px rgba(0, 0, 0, 0.15);\n",
              "      filter: drop-shadow(0px 1px 2px rgba(0, 0, 0, 0.3));\n",
              "      fill: #FFFFFF;\n",
              "    }\n",
              "  </style>\n",
              "\n",
              "      <script>\n",
              "        const buttonEl =\n",
              "          document.querySelector('#df-350ba4de-40c4-4194-bf9c-bbacc5944be1 button.colab-df-convert');\n",
              "        buttonEl.style.display =\n",
              "          google.colab.kernel.accessAllowed ? 'block' : 'none';\n",
              "\n",
              "        async function convertToInteractive(key) {\n",
              "          const element = document.querySelector('#df-350ba4de-40c4-4194-bf9c-bbacc5944be1');\n",
              "          const dataTable =\n",
              "            await google.colab.kernel.invokeFunction('convertToInteractive',\n",
              "                                                     [key], {});\n",
              "          if (!dataTable) return;\n",
              "\n",
              "          const docLinkHtml = 'Like what you see? Visit the ' +\n",
              "            '<a target=\"_blank\" href=https://colab.research.google.com/notebooks/data_table.ipynb>data table notebook</a>'\n",
              "            + ' to learn more about interactive tables.';\n",
              "          element.innerHTML = '';\n",
              "          dataTable['output_type'] = 'display_data';\n",
              "          await google.colab.output.renderOutput(dataTable, element);\n",
              "          const docLink = document.createElement('div');\n",
              "          docLink.innerHTML = docLinkHtml;\n",
              "          element.appendChild(docLink);\n",
              "        }\n",
              "      </script>\n",
              "    </div>\n",
              "  </div>\n",
              "  "
            ]
          },
          "metadata": {},
          "execution_count": 18
        }
      ]
    },
    {
      "cell_type": "markdown",
      "source": [
        "#### 2.Confusion matrix"
      ],
      "metadata": {
        "id": "jtXGyuJhJuv8"
      }
    },
    {
      "cell_type": "code",
      "source": [
        "# confusion matrix\n",
        "from sklearn.metrics import classification_report,confusion_matrix\n",
        "conmat = confusion_matrix(y_test,y_pred)\n",
        "\n",
        "val = np.mat(conmat) \n",
        "classnames = list(set(y_train))\n",
        "df_cm = pd.DataFrame(\n",
        "        val, index=classnames, columns=classnames, \n",
        "    )\n",
        "df_cm.index = ['pneumonia','normal']\n",
        "df_cm.columns = ['pneumonia','normal']"
      ],
      "metadata": {
        "id": "BPro7CuTJzyV"
      },
      "execution_count": 19,
      "outputs": []
    },
    {
      "cell_type": "code",
      "source": [
        "import matplotlib.pyplot as plt\n",
        "import seaborn as sns\n",
        "sns.set()\n",
        "plt.figure(figsize=(6, 4), dpi=90)\n",
        "heatmap = sns.heatmap(df_cm, annot=True, cmap=\"Blues\",fmt ='g')\n",
        "heatmap.yaxis.set_ticklabels(heatmap.yaxis.get_ticklabels(), rotation=0, ha='right')\n",
        "heatmap.xaxis.set_ticklabels(heatmap.xaxis.get_ticklabels(), rotation=45, ha='right')\n",
        "\n",
        "plt.ylabel('True label')\n",
        "plt.xlabel('Predicted label')\n",
        "plt.title('Confusion Matrix')\n",
        "plt.show()"
      ],
      "metadata": {
        "colab": {
          "base_uri": "https://localhost:8080/",
          "height": 428
        },
        "id": "40N3NGQ1Jlnk",
        "outputId": "bcff723f-4ad6-4e0c-a16c-67a35d9330fe"
      },
      "execution_count": 20,
      "outputs": [
        {
          "output_type": "display_data",
          "data": {
            "text/plain": [
              "<Figure size 540x360 with 2 Axes>"
            ],
            "image/png": "[encoded data removed]"
          },
          "metadata": {}
        }
      ]
    },
    {
      "cell_type": "markdown",
      "source": [
        "#### AUC\n"
      ],
      "metadata": {
        "id": "o7DB1GBvKOVS"
      }
    },
    {
      "cell_type": "code",
      "source": [
        "# AUC\n",
        "from sklearn.metrics import roc_curve, roc_auc_score\n",
        "y_pred_proba = model.predict(X_test)\n",
        "fpr, tpr, thresholds = roc_curve(y_test, y_pred_proba)\n",
        "\n",
        "import seaborn as sns\n",
        "import matplotlib.pyplot as plt\n",
        "sns.set()\n",
        "plt.plot(fpr, tpr)\n",
        "plt.plot(fpr, fpr, linestyle = '--', color = 'k')\n",
        "plt.xlabel('False positive rate')\n",
        "plt.ylabel('True positive rate')\n",
        "AUROC = np.round(roc_auc_score(y_test, y_pred_proba), 2)\n",
        "plt.title(f'Model AUROC: {AUROC}');\n",
        "plt.show()"
      ],
      "metadata": {
        "colab": {
          "base_uri": "https://localhost:8080/",
          "height": 498
        },
        "id": "gEfoZuWvKHO3",
        "outputId": "f0ad7e82-5aa6-4956-ecd5-c146020000ee"
      },
      "execution_count": 21,
      "outputs": [
        {
          "output_type": "stream",
          "name": "stdout",
          "text": [
            "20/20 [==============================] - 2s 99ms/step\n"
          ]
        },
        {
          "output_type": "display_data",
          "data": {
            "text/plain": [
              "<Figure size 640x480 with 1 Axes>"
            ],
            "image/png": "[encoded data removed]"
          },
          "metadata": {}
        }
      ]
    }
  ],
  "metadata": {
    "colab": {
      "provenance": []
    },
    "kernelspec": {
      "display_name": "Python 3",
      "name": "python3"
    },
    "language_info": {
      "name": "python"
    }
  },
  "nbformat": 4,
  "nbformat_minor": 0
}